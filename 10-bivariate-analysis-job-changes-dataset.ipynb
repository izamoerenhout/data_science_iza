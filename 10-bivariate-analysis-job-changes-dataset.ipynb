{
 "cells": [
  {
   "cell_type": "markdown",
   "metadata": {},
   "source": [
    "# Portfolio assignment 10\n",
    "Perform a bivariate analysis (Pearson correlation and scatter plot) on at least 1 combination of 2 columns with numeric data in the dataset that you already used. Does the correlation and scatter plot match your expectations? Add your answer to your notebook."
   ]
  },
  {
   "cell_type": "code",
   "execution_count": 1,
   "metadata": {},
   "outputs": [],
   "source": [
    "import numpy as np\n",
    "import pandas as pd\n",
    "import matplotlib.pyplot as plt"
   ]
  },
  {
   "cell_type": "code",
   "execution_count": 2,
   "metadata": {},
   "outputs": [
    {
     "data": {
      "text/html": [
       "<div>\n",
       "<style scoped>\n",
       "    .dataframe tbody tr th:only-of-type {\n",
       "        vertical-align: middle;\n",
       "    }\n",
       "\n",
       "    .dataframe tbody tr th {\n",
       "        vertical-align: top;\n",
       "    }\n",
       "\n",
       "    .dataframe thead th {\n",
       "        text-align: right;\n",
       "    }\n",
       "</style>\n",
       "<table border=\"1\" class=\"dataframe\">\n",
       "  <thead>\n",
       "    <tr style=\"text-align: right;\">\n",
       "      <th></th>\n",
       "      <th>enrollee_id</th>\n",
       "      <th>city</th>\n",
       "      <th>city_development_index</th>\n",
       "      <th>gender</th>\n",
       "      <th>relevent_experience</th>\n",
       "      <th>enrolled_university</th>\n",
       "      <th>education_level</th>\n",
       "      <th>major_discipline</th>\n",
       "      <th>experience</th>\n",
       "      <th>company_size</th>\n",
       "      <th>company_type</th>\n",
       "      <th>last_new_job</th>\n",
       "      <th>training_hours</th>\n",
       "    </tr>\n",
       "  </thead>\n",
       "  <tbody>\n",
       "    <tr>\n",
       "      <th>0</th>\n",
       "      <td>32403</td>\n",
       "      <td>city_41</td>\n",
       "      <td>8.270.000.000.000.000</td>\n",
       "      <td>Male</td>\n",
       "      <td>Has relevent experience</td>\n",
       "      <td>Full time course</td>\n",
       "      <td>Graduate</td>\n",
       "      <td>STEM</td>\n",
       "      <td>9</td>\n",
       "      <td>&lt;10</td>\n",
       "      <td>NaN</td>\n",
       "      <td>1</td>\n",
       "      <td>21</td>\n",
       "    </tr>\n",
       "    <tr>\n",
       "      <th>1</th>\n",
       "      <td>9858</td>\n",
       "      <td>city_103</td>\n",
       "      <td>0.92</td>\n",
       "      <td>Female</td>\n",
       "      <td>Has relevent experience</td>\n",
       "      <td>no_enrollment</td>\n",
       "      <td>Graduate</td>\n",
       "      <td>STEM</td>\n",
       "      <td>5</td>\n",
       "      <td>NaN</td>\n",
       "      <td>Pvt Ltd</td>\n",
       "      <td>1</td>\n",
       "      <td>98</td>\n",
       "    </tr>\n",
       "    <tr>\n",
       "      <th>2</th>\n",
       "      <td>31806</td>\n",
       "      <td>city_21</td>\n",
       "      <td>624</td>\n",
       "      <td>Male</td>\n",
       "      <td>No relevent experience</td>\n",
       "      <td>no_enrollment</td>\n",
       "      <td>High School</td>\n",
       "      <td>NaN</td>\n",
       "      <td>&lt;1</td>\n",
       "      <td>NaN</td>\n",
       "      <td>Pvt Ltd</td>\n",
       "      <td>never</td>\n",
       "      <td>15</td>\n",
       "    </tr>\n",
       "    <tr>\n",
       "      <th>3</th>\n",
       "      <td>27385</td>\n",
       "      <td>city_13</td>\n",
       "      <td>8.270.000.000.000.000</td>\n",
       "      <td>Male</td>\n",
       "      <td>Has relevent experience</td>\n",
       "      <td>no_enrollment</td>\n",
       "      <td>Masters</td>\n",
       "      <td>STEM</td>\n",
       "      <td>11</td>\n",
       "      <td>10/49</td>\n",
       "      <td>Pvt Ltd</td>\n",
       "      <td>1</td>\n",
       "      <td>39</td>\n",
       "    </tr>\n",
       "    <tr>\n",
       "      <th>4</th>\n",
       "      <td>27724</td>\n",
       "      <td>city_103</td>\n",
       "      <td>0.92</td>\n",
       "      <td>Male</td>\n",
       "      <td>Has relevent experience</td>\n",
       "      <td>no_enrollment</td>\n",
       "      <td>Graduate</td>\n",
       "      <td>STEM</td>\n",
       "      <td>&gt;20</td>\n",
       "      <td>10000+</td>\n",
       "      <td>Pvt Ltd</td>\n",
       "      <td>&gt;4</td>\n",
       "      <td>72</td>\n",
       "    </tr>\n",
       "  </tbody>\n",
       "</table>\n",
       "</div>"
      ],
      "text/plain": [
       "   enrollee_id      city city_development_index  gender  \\\n",
       "0        32403   city_41  8.270.000.000.000.000    Male   \n",
       "1         9858  city_103                   0.92  Female   \n",
       "2        31806   city_21                    624    Male   \n",
       "3        27385   city_13  8.270.000.000.000.000    Male   \n",
       "4        27724  city_103                   0.92    Male   \n",
       "\n",
       "       relevent_experience enrolled_university education_level  \\\n",
       "0  Has relevent experience    Full time course        Graduate   \n",
       "1  Has relevent experience       no_enrollment        Graduate   \n",
       "2   No relevent experience       no_enrollment     High School   \n",
       "3  Has relevent experience       no_enrollment         Masters   \n",
       "4  Has relevent experience       no_enrollment        Graduate   \n",
       "\n",
       "  major_discipline experience company_size company_type last_new_job  \\\n",
       "0             STEM          9          <10          NaN            1   \n",
       "1             STEM          5          NaN      Pvt Ltd            1   \n",
       "2              NaN         <1          NaN      Pvt Ltd        never   \n",
       "3             STEM         11        10/49      Pvt Ltd            1   \n",
       "4             STEM        >20       10000+      Pvt Ltd           >4   \n",
       "\n",
       "   training_hours  \n",
       "0              21  \n",
       "1              98  \n",
       "2              15  \n",
       "3              39  \n",
       "4              72  "
      ]
     },
     "execution_count": 2,
     "metadata": {},
     "output_type": "execute_result"
    }
   ],
   "source": [
    "df = pd.read_csv('Datasets/aug_test.csv', sep=',')\n",
    "df.head()"
   ]
  },
  {
   "cell_type": "markdown",
   "metadata": {},
   "source": [
    "## Fixing numerical data\n",
    "- Experience: total experience in years\n",
    "- Last new job: difference in years between previous job and current job"
   ]
  },
  {
   "cell_type": "markdown",
   "metadata": {},
   "source": [
    "### Experience"
   ]
  },
  {
   "cell_type": "code",
   "execution_count": 3,
   "metadata": {},
   "outputs": [
    {
     "data": {
      "text/plain": [
       "array(['9', '5', '<1', '11', '>20', '10', '14', '3', '20', '8', '4', '13',\n",
       "       '2', '6', '7', '1', '19', '15', '16', nan, '17', '18', '12'],\n",
       "      dtype=object)"
      ]
     },
     "execution_count": 3,
     "metadata": {},
     "output_type": "execute_result"
    }
   ],
   "source": [
    "df['experience'].unique()"
   ]
  },
  {
   "cell_type": "code",
   "execution_count": 4,
   "metadata": {},
   "outputs": [
    {
     "data": {
      "text/plain": [
       "array(['9', '5', 0, '11', '>20', '10', '14', '3', '20', '8', '4', '13',\n",
       "       '2', '6', '7', '1', '19', '15', '16', nan, '17', '18', '12'],\n",
       "      dtype=object)"
      ]
     },
     "execution_count": 4,
     "metadata": {},
     "output_type": "execute_result"
    }
   ],
   "source": [
    "# setting <1 to 0\n",
    "filter1year = df['experience'] == '<1'\n",
    "df.loc[filter1year, 'experience'] = 0\n",
    "df['experience'].unique()"
   ]
  },
  {
   "cell_type": "code",
   "execution_count": 5,
   "metadata": {},
   "outputs": [
    {
     "data": {
      "text/plain": [
       "array(['9', '5', 0, '11', 21, '10', '14', '3', '20', '8', '4', '13', '2',\n",
       "       '6', '7', '1', '19', '15', '16', nan, '17', '18', '12'],\n",
       "      dtype=object)"
      ]
     },
     "execution_count": 5,
     "metadata": {},
     "output_type": "execute_result"
    }
   ],
   "source": [
    "# setting >20 to 21\n",
    "filter20year = df['experience'] == '>20'\n",
    "df.loc[filter20year, 'experience'] = 21\n",
    "df['experience'].unique()"
   ]
  },
  {
   "cell_type": "code",
   "execution_count": 6,
   "metadata": {},
   "outputs": [
    {
     "data": {
      "text/plain": [
       "array([ 9.,  5.,  0., 11., 21., 10., 14.,  3., 20.,  8.,  4., 13.,  2.,\n",
       "        6.,  7.,  1., 19., 15., 16., nan, 17., 18., 12.])"
      ]
     },
     "execution_count": 6,
     "metadata": {},
     "output_type": "execute_result"
    }
   ],
   "source": [
    "df['experience'] = pd.to_numeric(df['experience'])\n",
    "df['experience'].unique()"
   ]
  },
  {
   "cell_type": "markdown",
   "metadata": {},
   "source": [
    "### Last new job"
   ]
  },
  {
   "cell_type": "code",
   "execution_count": 7,
   "metadata": {},
   "outputs": [
    {
     "data": {
      "text/plain": [
       "array(['1', 'never', '>4', '2', '4', '3', nan], dtype=object)"
      ]
     },
     "execution_count": 7,
     "metadata": {},
     "output_type": "execute_result"
    }
   ],
   "source": [
    "df['last_new_job'].unique()"
   ]
  },
  {
   "cell_type": "code",
   "execution_count": 8,
   "metadata": {},
   "outputs": [
    {
     "data": {
      "text/plain": [
       "array(['1', 0, '>4', '2', '4', '3', nan], dtype=object)"
      ]
     },
     "execution_count": 8,
     "metadata": {},
     "output_type": "execute_result"
    }
   ],
   "source": [
    "# setting never to 0\n",
    "filternever = df['last_new_job'] == 'never'\n",
    "df.loc[filternever, 'last_new_job'] = 0\n",
    "df['last_new_job'].unique()"
   ]
  },
  {
   "cell_type": "code",
   "execution_count": 9,
   "metadata": {},
   "outputs": [
    {
     "data": {
      "text/plain": [
       "array(['1', 0, 5, '2', '4', '3', nan], dtype=object)"
      ]
     },
     "execution_count": 9,
     "metadata": {},
     "output_type": "execute_result"
    }
   ],
   "source": [
    "# setting >4 to 0\n",
    "filter4more = df['last_new_job'] == '>4'\n",
    "df.loc[filter4more, 'last_new_job'] = 5\n",
    "df['last_new_job'].unique()"
   ]
  },
  {
   "cell_type": "code",
   "execution_count": 10,
   "metadata": {},
   "outputs": [
    {
     "data": {
      "text/plain": [
       "array([ 1.,  0.,  5.,  2.,  4.,  3., nan])"
      ]
     },
     "execution_count": 10,
     "metadata": {},
     "output_type": "execute_result"
    }
   ],
   "source": [
    "df['last_new_job'] = pd.to_numeric(df['last_new_job'])\n",
    "df['last_new_job'].unique()"
   ]
  },
  {
   "cell_type": "markdown",
   "metadata": {},
   "source": [
    "## Correlation"
   ]
  },
  {
   "cell_type": "code",
   "execution_count": 11,
   "metadata": {},
   "outputs": [
    {
     "data": {
      "text/html": [
       "<div>\n",
       "<style scoped>\n",
       "    .dataframe tbody tr th:only-of-type {\n",
       "        vertical-align: middle;\n",
       "    }\n",
       "\n",
       "    .dataframe tbody tr th {\n",
       "        vertical-align: top;\n",
       "    }\n",
       "\n",
       "    .dataframe thead th {\n",
       "        text-align: right;\n",
       "    }\n",
       "</style>\n",
       "<table border=\"1\" class=\"dataframe\">\n",
       "  <thead>\n",
       "    <tr style=\"text-align: right;\">\n",
       "      <th></th>\n",
       "      <th>enrollee_id</th>\n",
       "      <th>experience</th>\n",
       "      <th>last_new_job</th>\n",
       "      <th>training_hours</th>\n",
       "    </tr>\n",
       "  </thead>\n",
       "  <tbody>\n",
       "    <tr>\n",
       "      <th>enrollee_id</th>\n",
       "      <td>1.000000</td>\n",
       "      <td>-0.019257</td>\n",
       "      <td>-0.048788</td>\n",
       "      <td>0.003239</td>\n",
       "    </tr>\n",
       "    <tr>\n",
       "      <th>experience</th>\n",
       "      <td>-0.019257</td>\n",
       "      <td>1.000000</td>\n",
       "      <td>0.477278</td>\n",
       "      <td>0.009558</td>\n",
       "    </tr>\n",
       "    <tr>\n",
       "      <th>last_new_job</th>\n",
       "      <td>-0.048788</td>\n",
       "      <td>0.477278</td>\n",
       "      <td>1.000000</td>\n",
       "      <td>0.017560</td>\n",
       "    </tr>\n",
       "    <tr>\n",
       "      <th>training_hours</th>\n",
       "      <td>0.003239</td>\n",
       "      <td>0.009558</td>\n",
       "      <td>0.017560</td>\n",
       "      <td>1.000000</td>\n",
       "    </tr>\n",
       "  </tbody>\n",
       "</table>\n",
       "</div>"
      ],
      "text/plain": [
       "                enrollee_id  experience  last_new_job  training_hours\n",
       "enrollee_id        1.000000   -0.019257     -0.048788        0.003239\n",
       "experience        -0.019257    1.000000      0.477278        0.009558\n",
       "last_new_job      -0.048788    0.477278      1.000000        0.017560\n",
       "training_hours     0.003239    0.009558      0.017560        1.000000"
      ]
     },
     "execution_count": 11,
     "metadata": {},
     "output_type": "execute_result"
    }
   ],
   "source": [
    "df.corr()"
   ]
  },
  {
   "cell_type": "code",
   "execution_count": 13,
   "metadata": {},
   "outputs": [
    {
     "data": {
      "text/html": [
       "<style  type=\"text/css\" >\n",
       "#T_3a97a35a_6aba_11eb_a7a7_48a472ec50adrow0_col0,#T_3a97a35a_6aba_11eb_a7a7_48a472ec50adrow1_col1,#T_3a97a35a_6aba_11eb_a7a7_48a472ec50adrow2_col2,#T_3a97a35a_6aba_11eb_a7a7_48a472ec50adrow3_col3{\n",
       "            background-color:  #b40426;\n",
       "            color:  #f1f1f1;\n",
       "        }#T_3a97a35a_6aba_11eb_a7a7_48a472ec50adrow0_col1,#T_3a97a35a_6aba_11eb_a7a7_48a472ec50adrow1_col0{\n",
       "            background-color:  #4358cb;\n",
       "            color:  #f1f1f1;\n",
       "        }#T_3a97a35a_6aba_11eb_a7a7_48a472ec50adrow0_col2,#T_3a97a35a_6aba_11eb_a7a7_48a472ec50adrow2_col0{\n",
       "            background-color:  #3b4cc0;\n",
       "            color:  #f1f1f1;\n",
       "        }#T_3a97a35a_6aba_11eb_a7a7_48a472ec50adrow0_col3,#T_3a97a35a_6aba_11eb_a7a7_48a472ec50adrow3_col0{\n",
       "            background-color:  #4961d2;\n",
       "            color:  #f1f1f1;\n",
       "        }#T_3a97a35a_6aba_11eb_a7a7_48a472ec50adrow1_col2,#T_3a97a35a_6aba_11eb_a7a7_48a472ec50adrow2_col1{\n",
       "            background-color:  #dddcdc;\n",
       "            color:  #000000;\n",
       "        }#T_3a97a35a_6aba_11eb_a7a7_48a472ec50adrow1_col3,#T_3a97a35a_6aba_11eb_a7a7_48a472ec50adrow3_col1{\n",
       "            background-color:  #4b64d5;\n",
       "            color:  #f1f1f1;\n",
       "        }#T_3a97a35a_6aba_11eb_a7a7_48a472ec50adrow2_col3,#T_3a97a35a_6aba_11eb_a7a7_48a472ec50adrow3_col2{\n",
       "            background-color:  #4e68d8;\n",
       "            color:  #000000;\n",
       "        }</style><table id=\"T_3a97a35a_6aba_11eb_a7a7_48a472ec50ad\" ><thead>    <tr>        <th class=\"blank level0\" ></th>        <th class=\"col_heading level0 col0\" >enrollee_id</th>        <th class=\"col_heading level0 col1\" >experience</th>        <th class=\"col_heading level0 col2\" >last_new_job</th>        <th class=\"col_heading level0 col3\" >training_hours</th>    </tr></thead><tbody>\n",
       "                <tr>\n",
       "                        <th id=\"T_3a97a35a_6aba_11eb_a7a7_48a472ec50adlevel0_row0\" class=\"row_heading level0 row0\" >enrollee_id</th>\n",
       "                        <td id=\"T_3a97a35a_6aba_11eb_a7a7_48a472ec50adrow0_col0\" class=\"data row0 col0\" >1.00</td>\n",
       "                        <td id=\"T_3a97a35a_6aba_11eb_a7a7_48a472ec50adrow0_col1\" class=\"data row0 col1\" >-0.02</td>\n",
       "                        <td id=\"T_3a97a35a_6aba_11eb_a7a7_48a472ec50adrow0_col2\" class=\"data row0 col2\" >-0.05</td>\n",
       "                        <td id=\"T_3a97a35a_6aba_11eb_a7a7_48a472ec50adrow0_col3\" class=\"data row0 col3\" >0.00</td>\n",
       "            </tr>\n",
       "            <tr>\n",
       "                        <th id=\"T_3a97a35a_6aba_11eb_a7a7_48a472ec50adlevel0_row1\" class=\"row_heading level0 row1\" >experience</th>\n",
       "                        <td id=\"T_3a97a35a_6aba_11eb_a7a7_48a472ec50adrow1_col0\" class=\"data row1 col0\" >-0.02</td>\n",
       "                        <td id=\"T_3a97a35a_6aba_11eb_a7a7_48a472ec50adrow1_col1\" class=\"data row1 col1\" >1.00</td>\n",
       "                        <td id=\"T_3a97a35a_6aba_11eb_a7a7_48a472ec50adrow1_col2\" class=\"data row1 col2\" >0.48</td>\n",
       "                        <td id=\"T_3a97a35a_6aba_11eb_a7a7_48a472ec50adrow1_col3\" class=\"data row1 col3\" >0.01</td>\n",
       "            </tr>\n",
       "            <tr>\n",
       "                        <th id=\"T_3a97a35a_6aba_11eb_a7a7_48a472ec50adlevel0_row2\" class=\"row_heading level0 row2\" >last_new_job</th>\n",
       "                        <td id=\"T_3a97a35a_6aba_11eb_a7a7_48a472ec50adrow2_col0\" class=\"data row2 col0\" >-0.05</td>\n",
       "                        <td id=\"T_3a97a35a_6aba_11eb_a7a7_48a472ec50adrow2_col1\" class=\"data row2 col1\" >0.48</td>\n",
       "                        <td id=\"T_3a97a35a_6aba_11eb_a7a7_48a472ec50adrow2_col2\" class=\"data row2 col2\" >1.00</td>\n",
       "                        <td id=\"T_3a97a35a_6aba_11eb_a7a7_48a472ec50adrow2_col3\" class=\"data row2 col3\" >0.02</td>\n",
       "            </tr>\n",
       "            <tr>\n",
       "                        <th id=\"T_3a97a35a_6aba_11eb_a7a7_48a472ec50adlevel0_row3\" class=\"row_heading level0 row3\" >training_hours</th>\n",
       "                        <td id=\"T_3a97a35a_6aba_11eb_a7a7_48a472ec50adrow3_col0\" class=\"data row3 col0\" >0.00</td>\n",
       "                        <td id=\"T_3a97a35a_6aba_11eb_a7a7_48a472ec50adrow3_col1\" class=\"data row3 col1\" >0.01</td>\n",
       "                        <td id=\"T_3a97a35a_6aba_11eb_a7a7_48a472ec50adrow3_col2\" class=\"data row3 col2\" >0.02</td>\n",
       "                        <td id=\"T_3a97a35a_6aba_11eb_a7a7_48a472ec50adrow3_col3\" class=\"data row3 col3\" >1.00</td>\n",
       "            </tr>\n",
       "    </tbody></table>"
      ],
      "text/plain": [
       "<pandas.io.formats.style.Styler at 0x126304f6340>"
      ]
     },
     "execution_count": 13,
     "metadata": {},
     "output_type": "execute_result"
    }
   ],
   "source": [
    "dfCorrelations = df.corr()\n",
    "dfCorrelations.style.background_gradient(cmap='coolwarm', axis=None).set_precision(2)"
   ]
  },
  {
   "cell_type": "markdown",
   "metadata": {},
   "source": [
    "There are no corrleations between the attributes, the only one is between teh last new job and experience."
   ]
  },
  {
   "cell_type": "markdown",
   "metadata": {},
   "source": [
    "## Scatter plot"
   ]
  },
  {
   "cell_type": "code",
   "execution_count": 14,
   "metadata": {},
   "outputs": [
    {
     "data": {
      "text/plain": [
       "<AxesSubplot:xlabel='last_new_job', ylabel='experience'>"
      ]
     },
     "execution_count": 14,
     "metadata": {},
     "output_type": "execute_result"
    },
    {
     "data": {
      "image/png": "[encoded data removed]",
      "text/plain": [
       "<Figure size 432x288 with 1 Axes>"
      ]
     },
     "metadata": {
      "needs_background": "light"
     },
     "output_type": "display_data"
    }
   ],
   "source": [
    "df.plot(kind='scatter', x='last_new_job', y='experience')"
   ]
  },
  {
   "cell_type": "markdown",
   "metadata": {},
   "source": [
    "As you can see, this is still a very weak correlation."
   ]
  }
 ],
 "metadata": {
  "kernelspec": {
   "display_name": "Python 3",
   "language": "python",
   "name": "python3"
  },
  "language_info": {
   "codemirror_mode": {
    "name": "ipython",
    "version": 3
   },
   "file_extension": ".py",
   "mimetype": "text/x-python",
   "name": "python",
   "nbconvert_exporter": "python",
   "pygments_lexer": "ipython3",
   "version": "3.8.5"
  }
 },
 "nbformat": 4,
 "nbformat_minor": 4
}
