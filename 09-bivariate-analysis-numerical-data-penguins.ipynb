{
 "cells": [
  {
   "cell_type": "markdown",
   "metadata": {},
   "source": [
    "# Portfolio assignment 9\n",
    "Perform a bivariate analysis on the columns with numerical data in the penguins dataset.\n",
    "- Use corr() on the DataFrame te calculate all the correlations. Show the correlation table with colors.\n",
    "- Look at the correlations. Do they match your expectations?\n",
    "- Show a scatter plot for:\n",
    "    - The strongest positive correlation\n",
    "    - The strongest negative correlation\n",
    "    - The weakest correlation"
   ]
  },
  {
   "cell_type": "code",
   "execution_count": 2,
   "metadata": {},
   "outputs": [
    {
     "data": {
      "text/html": [
       "<div>\n",
       "<style scoped>\n",
       "    .dataframe tbody tr th:only-of-type {\n",
       "        vertical-align: middle;\n",
       "    }\n",
       "\n",
       "    .dataframe tbody tr th {\n",
       "        vertical-align: top;\n",
       "    }\n",
       "\n",
       "    .dataframe thead th {\n",
       "        text-align: right;\n",
       "    }\n",
       "</style>\n",
       "<table border=\"1\" class=\"dataframe\">\n",
       "  <thead>\n",
       "    <tr style=\"text-align: right;\">\n",
       "      <th></th>\n",
       "      <th>species</th>\n",
       "      <th>island</th>\n",
       "      <th>bill_length_mm</th>\n",
       "      <th>bill_depth_mm</th>\n",
       "      <th>flipper_length_mm</th>\n",
       "      <th>body_mass_g</th>\n",
       "      <th>sex</th>\n",
       "    </tr>\n",
       "  </thead>\n",
       "  <tbody>\n",
       "    <tr>\n",
       "      <th>0</th>\n",
       "      <td>Adelie</td>\n",
       "      <td>Torgersen</td>\n",
       "      <td>39.1</td>\n",
       "      <td>18.7</td>\n",
       "      <td>181.0</td>\n",
       "      <td>3750.0</td>\n",
       "      <td>Male</td>\n",
       "    </tr>\n",
       "    <tr>\n",
       "      <th>1</th>\n",
       "      <td>Adelie</td>\n",
       "      <td>Torgersen</td>\n",
       "      <td>39.5</td>\n",
       "      <td>17.4</td>\n",
       "      <td>186.0</td>\n",
       "      <td>3800.0</td>\n",
       "      <td>Female</td>\n",
       "    </tr>\n",
       "    <tr>\n",
       "      <th>2</th>\n",
       "      <td>Adelie</td>\n",
       "      <td>Torgersen</td>\n",
       "      <td>40.3</td>\n",
       "      <td>18.0</td>\n",
       "      <td>195.0</td>\n",
       "      <td>3250.0</td>\n",
       "      <td>Female</td>\n",
       "    </tr>\n",
       "    <tr>\n",
       "      <th>3</th>\n",
       "      <td>Adelie</td>\n",
       "      <td>Torgersen</td>\n",
       "      <td>NaN</td>\n",
       "      <td>NaN</td>\n",
       "      <td>NaN</td>\n",
       "      <td>NaN</td>\n",
       "      <td>NaN</td>\n",
       "    </tr>\n",
       "    <tr>\n",
       "      <th>4</th>\n",
       "      <td>Adelie</td>\n",
       "      <td>Torgersen</td>\n",
       "      <td>36.7</td>\n",
       "      <td>19.3</td>\n",
       "      <td>193.0</td>\n",
       "      <td>3450.0</td>\n",
       "      <td>Female</td>\n",
       "    </tr>\n",
       "  </tbody>\n",
       "</table>\n",
       "</div>"
      ],
      "text/plain": [
       "  species     island  bill_length_mm  bill_depth_mm  flipper_length_mm  \\\n",
       "0  Adelie  Torgersen            39.1           18.7              181.0   \n",
       "1  Adelie  Torgersen            39.5           17.4              186.0   \n",
       "2  Adelie  Torgersen            40.3           18.0              195.0   \n",
       "3  Adelie  Torgersen             NaN            NaN                NaN   \n",
       "4  Adelie  Torgersen            36.7           19.3              193.0   \n",
       "\n",
       "   body_mass_g     sex  \n",
       "0       3750.0    Male  \n",
       "1       3800.0  Female  \n",
       "2       3250.0  Female  \n",
       "3          NaN     NaN  \n",
       "4       3450.0  Female  "
      ]
     },
     "execution_count": 2,
     "metadata": {},
     "output_type": "execute_result"
    }
   ],
   "source": [
    "import pandas as pd\n",
    "import seaborn as sns\n",
    "penguins = sns.load_dataset(\"penguins\")\n",
    "penguins.head()"
   ]
  },
  {
   "cell_type": "markdown",
   "metadata": {},
   "source": [
    "## Basic of the Correlation"
   ]
  },
  {
   "cell_type": "code",
   "execution_count": 3,
   "metadata": {},
   "outputs": [
    {
     "data": {
      "text/html": [
       "<div>\n",
       "<style scoped>\n",
       "    .dataframe tbody tr th:only-of-type {\n",
       "        vertical-align: middle;\n",
       "    }\n",
       "\n",
       "    .dataframe tbody tr th {\n",
       "        vertical-align: top;\n",
       "    }\n",
       "\n",
       "    .dataframe thead th {\n",
       "        text-align: right;\n",
       "    }\n",
       "</style>\n",
       "<table border=\"1\" class=\"dataframe\">\n",
       "  <thead>\n",
       "    <tr style=\"text-align: right;\">\n",
       "      <th></th>\n",
       "      <th>bill_length_mm</th>\n",
       "      <th>bill_depth_mm</th>\n",
       "      <th>flipper_length_mm</th>\n",
       "      <th>body_mass_g</th>\n",
       "    </tr>\n",
       "  </thead>\n",
       "  <tbody>\n",
       "    <tr>\n",
       "      <th>bill_length_mm</th>\n",
       "      <td>1.000000</td>\n",
       "      <td>-0.235053</td>\n",
       "      <td>0.656181</td>\n",
       "      <td>0.595110</td>\n",
       "    </tr>\n",
       "    <tr>\n",
       "      <th>bill_depth_mm</th>\n",
       "      <td>-0.235053</td>\n",
       "      <td>1.000000</td>\n",
       "      <td>-0.583851</td>\n",
       "      <td>-0.471916</td>\n",
       "    </tr>\n",
       "    <tr>\n",
       "      <th>flipper_length_mm</th>\n",
       "      <td>0.656181</td>\n",
       "      <td>-0.583851</td>\n",
       "      <td>1.000000</td>\n",
       "      <td>0.871202</td>\n",
       "    </tr>\n",
       "    <tr>\n",
       "      <th>body_mass_g</th>\n",
       "      <td>0.595110</td>\n",
       "      <td>-0.471916</td>\n",
       "      <td>0.871202</td>\n",
       "      <td>1.000000</td>\n",
       "    </tr>\n",
       "  </tbody>\n",
       "</table>\n",
       "</div>"
      ],
      "text/plain": [
       "                   bill_length_mm  bill_depth_mm  flipper_length_mm  \\\n",
       "bill_length_mm           1.000000      -0.235053           0.656181   \n",
       "bill_depth_mm           -0.235053       1.000000          -0.583851   \n",
       "flipper_length_mm        0.656181      -0.583851           1.000000   \n",
       "body_mass_g              0.595110      -0.471916           0.871202   \n",
       "\n",
       "                   body_mass_g  \n",
       "bill_length_mm        0.595110  \n",
       "bill_depth_mm        -0.471916  \n",
       "flipper_length_mm     0.871202  \n",
       "body_mass_g           1.000000  "
      ]
     },
     "execution_count": 3,
     "metadata": {},
     "output_type": "execute_result"
    }
   ],
   "source": [
    "penguins.corr()"
   ]
  },
  {
   "cell_type": "code",
   "execution_count": 4,
   "metadata": {},
   "outputs": [
    {
     "data": {
      "text/html": [
       "<style  type=\"text/css\" >\n",
       "#T_1b390b9a_6a0c_11eb_85a5_48a472ec50adrow0_col0,#T_1b390b9a_6a0c_11eb_85a5_48a472ec50adrow1_col1,#T_1b390b9a_6a0c_11eb_85a5_48a472ec50adrow2_col2,#T_1b390b9a_6a0c_11eb_85a5_48a472ec50adrow3_col3{\n",
       "            background-color:  #b40426;\n",
       "            color:  #f1f1f1;\n",
       "        }#T_1b390b9a_6a0c_11eb_85a5_48a472ec50adrow0_col1,#T_1b390b9a_6a0c_11eb_85a5_48a472ec50adrow1_col0{\n",
       "            background-color:  #82a6fb;\n",
       "            color:  #000000;\n",
       "        }#T_1b390b9a_6a0c_11eb_85a5_48a472ec50adrow0_col2,#T_1b390b9a_6a0c_11eb_85a5_48a472ec50adrow2_col0{\n",
       "            background-color:  #f08b6e;\n",
       "            color:  #000000;\n",
       "        }#T_1b390b9a_6a0c_11eb_85a5_48a472ec50adrow0_col3,#T_1b390b9a_6a0c_11eb_85a5_48a472ec50adrow3_col0{\n",
       "            background-color:  #f59c7d;\n",
       "            color:  #000000;\n",
       "        }#T_1b390b9a_6a0c_11eb_85a5_48a472ec50adrow1_col2,#T_1b390b9a_6a0c_11eb_85a5_48a472ec50adrow2_col1{\n",
       "            background-color:  #3b4cc0;\n",
       "            color:  #f1f1f1;\n",
       "        }#T_1b390b9a_6a0c_11eb_85a5_48a472ec50adrow1_col3,#T_1b390b9a_6a0c_11eb_85a5_48a472ec50adrow3_col1{\n",
       "            background-color:  #506bda;\n",
       "            color:  #000000;\n",
       "        }#T_1b390b9a_6a0c_11eb_85a5_48a472ec50adrow2_col3,#T_1b390b9a_6a0c_11eb_85a5_48a472ec50adrow3_col2{\n",
       "            background-color:  #d0473d;\n",
       "            color:  #f1f1f1;\n",
       "        }</style><table id=\"T_1b390b9a_6a0c_11eb_85a5_48a472ec50ad\" ><thead>    <tr>        <th class=\"blank level0\" ></th>        <th class=\"col_heading level0 col0\" >bill_length_mm</th>        <th class=\"col_heading level0 col1\" >bill_depth_mm</th>        <th class=\"col_heading level0 col2\" >flipper_length_mm</th>        <th class=\"col_heading level0 col3\" >body_mass_g</th>    </tr></thead><tbody>\n",
       "                <tr>\n",
       "                        <th id=\"T_1b390b9a_6a0c_11eb_85a5_48a472ec50adlevel0_row0\" class=\"row_heading level0 row0\" >bill_length_mm</th>\n",
       "                        <td id=\"T_1b390b9a_6a0c_11eb_85a5_48a472ec50adrow0_col0\" class=\"data row0 col0\" >1.00</td>\n",
       "                        <td id=\"T_1b390b9a_6a0c_11eb_85a5_48a472ec50adrow0_col1\" class=\"data row0 col1\" >-0.24</td>\n",
       "                        <td id=\"T_1b390b9a_6a0c_11eb_85a5_48a472ec50adrow0_col2\" class=\"data row0 col2\" >0.66</td>\n",
       "                        <td id=\"T_1b390b9a_6a0c_11eb_85a5_48a472ec50adrow0_col3\" class=\"data row0 col3\" >0.60</td>\n",
       "            </tr>\n",
       "            <tr>\n",
       "                        <th id=\"T_1b390b9a_6a0c_11eb_85a5_48a472ec50adlevel0_row1\" class=\"row_heading level0 row1\" >bill_depth_mm</th>\n",
       "                        <td id=\"T_1b390b9a_6a0c_11eb_85a5_48a472ec50adrow1_col0\" class=\"data row1 col0\" >-0.24</td>\n",
       "                        <td id=\"T_1b390b9a_6a0c_11eb_85a5_48a472ec50adrow1_col1\" class=\"data row1 col1\" >1.00</td>\n",
       "                        <td id=\"T_1b390b9a_6a0c_11eb_85a5_48a472ec50adrow1_col2\" class=\"data row1 col2\" >-0.58</td>\n",
       "                        <td id=\"T_1b390b9a_6a0c_11eb_85a5_48a472ec50adrow1_col3\" class=\"data row1 col3\" >-0.47</td>\n",
       "            </tr>\n",
       "            <tr>\n",
       "                        <th id=\"T_1b390b9a_6a0c_11eb_85a5_48a472ec50adlevel0_row2\" class=\"row_heading level0 row2\" >flipper_length_mm</th>\n",
       "                        <td id=\"T_1b390b9a_6a0c_11eb_85a5_48a472ec50adrow2_col0\" class=\"data row2 col0\" >0.66</td>\n",
       "                        <td id=\"T_1b390b9a_6a0c_11eb_85a5_48a472ec50adrow2_col1\" class=\"data row2 col1\" >-0.58</td>\n",
       "                        <td id=\"T_1b390b9a_6a0c_11eb_85a5_48a472ec50adrow2_col2\" class=\"data row2 col2\" >1.00</td>\n",
       "                        <td id=\"T_1b390b9a_6a0c_11eb_85a5_48a472ec50adrow2_col3\" class=\"data row2 col3\" >0.87</td>\n",
       "            </tr>\n",
       "            <tr>\n",
       "                        <th id=\"T_1b390b9a_6a0c_11eb_85a5_48a472ec50adlevel0_row3\" class=\"row_heading level0 row3\" >body_mass_g</th>\n",
       "                        <td id=\"T_1b390b9a_6a0c_11eb_85a5_48a472ec50adrow3_col0\" class=\"data row3 col0\" >0.60</td>\n",
       "                        <td id=\"T_1b390b9a_6a0c_11eb_85a5_48a472ec50adrow3_col1\" class=\"data row3 col1\" >-0.47</td>\n",
       "                        <td id=\"T_1b390b9a_6a0c_11eb_85a5_48a472ec50adrow3_col2\" class=\"data row3 col2\" >0.87</td>\n",
       "                        <td id=\"T_1b390b9a_6a0c_11eb_85a5_48a472ec50adrow3_col3\" class=\"data row3 col3\" >1.00</td>\n",
       "            </tr>\n",
       "    </tbody></table>"
      ],
      "text/plain": [
       "<pandas.io.formats.style.Styler at 0x273aeacfe50>"
      ]
     },
     "execution_count": 4,
     "metadata": {},
     "output_type": "execute_result"
    }
   ],
   "source": [
    "penguinsCorrelations = penguins.corr()\n",
    "penguinsCorrelations.style.background_gradient(cmap='coolwarm', axis=None).set_precision(2)"
   ]
  },
  {
   "cell_type": "markdown",
   "metadata": {},
   "source": [
    "## Expectations\n",
    "- My expectation between the bill_length and the bill_depth was wrong, I expected that if the bill_length was long that the depth would be deeper.\n",
    "- My expectation between the flipper_length and the body_mass was correct, I expected that how longer the flipper the heavier the penguin weighs."
   ]
  },
  {
   "cell_type": "markdown",
   "metadata": {},
   "source": [
    "## Scatter plots"
   ]
  },
  {
   "cell_type": "markdown",
   "metadata": {},
   "source": [
    "### Strongest positive correlation\n",
    "The strongest positive correlation is between the flipper_length and the body_mass. The correlation is 0,87."
   ]
  },
  {
   "cell_type": "code",
   "execution_count": 8,
   "metadata": {},
   "outputs": [
    {
     "data": {
      "text/plain": [
       "<AxesSubplot:xlabel='flipper_length_mm', ylabel='body_mass_g'>"
      ]
     },
     "execution_count": 8,
     "metadata": {},
     "output_type": "execute_result"
    },
    {
     "data": {
      "image/png": "[encoded data removed]",
      "text/plain": [
       "<Figure size 432x288 with 1 Axes>"
      ]
     },
     "metadata": {
      "needs_background": "light"
     },
     "output_type": "display_data"
    }
   ],
   "source": [
    "penguins.plot(kind='scatter', x='flipper_length_mm', y='body_mass_g')"
   ]
  },
  {
   "cell_type": "markdown",
   "metadata": {},
   "source": [
    "### Strongest negative correlation\n",
    "The strongest negative correlation is between flipper_length and the bill_depth. The correlation is -0,58."
   ]
  },
  {
   "cell_type": "code",
   "execution_count": 7,
   "metadata": {},
   "outputs": [
    {
     "data": {
      "text/plain": [
       "<AxesSubplot:xlabel='flipper_length_mm', ylabel='bill_depth_mm'>"
      ]
     },
     "execution_count": 7,
     "metadata": {},
     "output_type": "execute_result"
    },
    {
     "data": {
      "image/png": "[encoded data removed]",
      "text/plain": [
       "<Figure size 432x288 with 1 Axes>"
      ]
     },
     "metadata": {
      "needs_background": "light"
     },
     "output_type": "display_data"
    }
   ],
   "source": [
    "penguins.plot(kind='scatter', x='flipper_length_mm', y='bill_depth_mm')"
   ]
  },
  {
   "cell_type": "markdown",
   "metadata": {},
   "source": [
    "### Weakest correlation\n",
    "The weakest correlation is between the bill_length and the bill_depth. The correlation is -0,24."
   ]
  },
  {
   "cell_type": "code",
   "execution_count": 6,
   "metadata": {},
   "outputs": [
    {
     "data": {
      "text/plain": [
       "<AxesSubplot:xlabel='bill_length_mm', ylabel='bill_depth_mm'>"
      ]
     },
     "execution_count": 6,
     "metadata": {},
     "output_type": "execute_result"
    },
    {
     "data": {
      "image/png": "[encoded data removed]",
      "text/plain": [
       "<Figure size 432x288 with 1 Axes>"
      ]
     },
     "metadata": {
      "needs_background": "light"
     },
     "output_type": "display_data"
    }
   ],
   "source": [
    "penguins.plot(kind='scatter', x='bill_length_mm', y='bill_depth_mm')"
   ]
  }
 ],
 "metadata": {
  "kernelspec": {
   "display_name": "Python 3",
   "language": "python",
   "name": "python3"
  },
  "language_info": {
   "codemirror_mode": {
    "name": "ipython",
    "version": 3
   },
   "file_extension": ".py",
   "mimetype": "text/x-python",
   "name": "python",
   "nbconvert_exporter": "python",
   "pygments_lexer": "ipython3",
   "version": "3.8.5"
  }
 },
 "nbformat": 4,
 "nbformat_minor": 4
}
